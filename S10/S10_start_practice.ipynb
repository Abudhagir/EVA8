{
  "cells": [
    {
      "cell_type": "markdown",
      "metadata": {
        "id": "view-in-github",
        "colab_type": "text"
      },
      "source": [
        "<a href=\"https://colab.research.google.com/github/Abudhagir/EVA8/blob/main/S10/S10_start_practice.ipynb\" target=\"_parent\"><img src=\"https://colab.research.google.com/assets/colab-badge.svg\" alt=\"Open In Colab\"/></a>"
      ]
    },
    {
      "cell_type": "code",
      "execution_count": 1,
      "metadata": {
        "id": "DiCOMvBYGUhS"
      },
      "outputs": [],
      "source": [
        "import torch\n",
        "import torch.nn as nn\n",
        "import torch.optim as optim\n",
        "import torchvision\n",
        "import torchvision.transforms as transforms\n",
        "import numpy as np\n",
        "import time\n",
        "import argparse"
      ]
    },
    {
      "cell_type": "code",
      "execution_count": 2,
      "metadata": {
        "id": "ql5a8P4KGUhV"
      },
      "outputs": [],
      "source": [
        "class Residual(nn.Module):\n",
        "  def __init__(self, fn):\n",
        "    super().__init__()\n",
        "    self.fn = fn \n",
        "  def forward(self, x):\n",
        "    return self.fn(x) + x\n",
        "\n",
        "\n",
        "def ConvMixer(dim, depth, kernel_size=5, patch_size=2, n_classes=10):\n",
        "  return nn.Sequential(\n",
        "      nn.Conv2d(3, dim, kernel_size=patch_size, stride=patch_size),\n",
        "      nn.GELU(),\n",
        "      nn.BatchNorm2d(dim),\n",
        "      *[nn.Sequential(\n",
        "          Residual(nn.Sequential(\n",
        "              nn.Conv2d(dim, dim, kernel_size, groups=dim, padding=\"same\"),\n",
        "              nn.GELU(),\n",
        "              nn.BatchNorm2d(dim)\n",
        "          )),\n",
        "          nn.Conv2d(dim, dim, kernel_size=1),\n",
        "          nn.GELU(),\n",
        "          nn.BatchNorm2d(dim)\n",
        "      ) for i in range(depth)],\n",
        "      nn.AdaptiveAvgPool2d((1, 1)),\n",
        "      nn.Flatten(),\n",
        "      nn.Linear(dim, n_classes)\n",
        "  )"
      ]
    },
    {
      "cell_type": "code",
      "execution_count": 3,
      "metadata": {
        "colab": {
          "base_uri": "https://localhost:8080/"
        },
        "id": "SkHjJv9FGUhW",
        "outputId": "700d6ce2-40fc-4eab-c6b4-4c592e7ac92f"
      },
      "outputs": [
        {
          "output_type": "stream",
          "name": "stdout",
          "text": [
            "Downloading https://www.cs.toronto.edu/~kriz/cifar-10-python.tar.gz to ./data/cifar-10-python.tar.gz\n"
          ]
        },
        {
          "output_type": "stream",
          "name": "stderr",
          "text": [
            "100%|██████████| 170498071/170498071 [00:14<00:00, 11446315.52it/s]\n"
          ]
        },
        {
          "output_type": "stream",
          "name": "stdout",
          "text": [
            "Extracting ./data/cifar-10-python.tar.gz to ./data\n"
          ]
        },
        {
          "output_type": "stream",
          "name": "stderr",
          "text": [
            "/usr/local/lib/python3.9/dist-packages/torch/utils/data/dataloader.py:561: UserWarning: This DataLoader will create 4 worker processes in total. Our suggested max number of worker in current system is 2, which is smaller than what this DataLoader is going to create. Please be aware that excessive worker creation might get DataLoader running slow or even freeze, lower the worker number to avoid potential slowness/freeze if necessary.\n",
            "  warnings.warn(_create_warning_msg(\n"
          ]
        },
        {
          "output_type": "stream",
          "name": "stdout",
          "text": [
            "Downloading https://www.cs.toronto.edu/~kriz/cifar-10-python.tar.gz to .data/cifar-10-python.tar.gz\n"
          ]
        },
        {
          "output_type": "stream",
          "name": "stderr",
          "text": [
            "100%|██████████| 170498071/170498071 [00:13<00:00, 12897367.60it/s]\n"
          ]
        },
        {
          "output_type": "stream",
          "name": "stdout",
          "text": [
            "Extracting .data/cifar-10-python.tar.gz to .data\n"
          ]
        }
      ],
      "source": [
        "cifar10_mean = (0.4914, 0.4822, 0.4465)\n",
        "cifar10_std = (0.2471, 0.2435, 0.2616)\n",
        "\n",
        "train_transform = transforms.Compose([\n",
        "    transforms.RandomResizedCrop(32, scale=(0.75, 1.0), ratio = (1.0, 1.0)),\n",
        "    transforms.RandomHorizontalFlip(p=0.5), \n",
        "    transforms.RandAugment(num_ops=1, magnitude=8),\n",
        "    transforms.ColorJitter(0.1, 0.1, 0.1),\n",
        "    transforms.ToTensor(),\n",
        "    transforms.Normalize(cifar10_mean, cifar10_std),\n",
        "    transforms.RandomErasing(p=0.25)\n",
        "])\n",
        "\n",
        "test_transform = transforms.Compose([\n",
        "    transforms.ToTensor(),\n",
        "    transforms.Normalize(cifar10_mean, cifar10_std)\n",
        "])\n",
        "\n",
        "epochs = 25\n",
        "batch_size = 512\n",
        "\n",
        "trainset = torchvision.datasets.CIFAR10(root='./data', train=True,\n",
        "                                        download=True, transform=train_transform)\n",
        "\n",
        "trainloader = torch.utils.data.DataLoader(trainset, batch_size=batch_size,\n",
        "                                          shuffle=True, num_workers=4)\n",
        "\n",
        "testset = torchvision.datasets.CIFAR10(root='.data', train=False,\n",
        "                                        download=True, transform=test_transform)\n",
        "\n",
        "testloader = torch.utils.data.DataLoader(testset, batch_size=64,\n",
        "                                        shuffle=False, num_workers=4)"
      ]
    },
    {
      "cell_type": "code",
      "execution_count": 4,
      "metadata": {
        "colab": {
          "base_uri": "https://localhost:8080/",
          "height": 36
        },
        "id": "9u9TNpNOGUhX",
        "outputId": "b0bdc65b-ffc0-49ee-9b7c-31b5eff20c73"
      },
      "outputs": [
        {
          "output_type": "execute_result",
          "data": {
            "text/plain": [
              "'Tesla T4'"
            ],
            "application/vnd.google.colaboratory.intrinsic+json": {
              "type": "string"
            }
          },
          "metadata": {},
          "execution_count": 4
        }
      ],
      "source": [
        "torch.cuda.get_device_name(0)"
      ]
    },
    {
      "cell_type": "code",
      "execution_count": 5,
      "metadata": {
        "colab": {
          "base_uri": "https://localhost:8080/"
        },
        "id": "m8GB6yGxGUhX",
        "outputId": "7613bbf1-168b-42e6-9da7-5bb7ad002359"
      },
      "outputs": [
        {
          "output_type": "stream",
          "name": "stdout",
          "text": [
            "ConvMixer: Epoch: 0 | Train Acc: 0.3440, Test Acc: 0.5052, Time: 58.6, lr: 0.001000\n",
            "ConvMixer: Epoch: 1 | Train Acc: 0.5468, Test Acc: 0.5940, Time: 55.0, lr: 0.002000\n",
            "ConvMixer: Epoch: 2 | Train Acc: 0.6435, Test Acc: 0.6913, Time: 56.4, lr: 0.003000\n",
            "ConvMixer: Epoch: 3 | Train Acc: 0.7016, Test Acc: 0.7066, Time: 56.5, lr: 0.004000\n",
            "ConvMixer: Epoch: 4 | Train Acc: 0.7394, Test Acc: 0.7450, Time: 56.0, lr: 0.005000\n",
            "ConvMixer: Epoch: 5 | Train Acc: 0.7606, Test Acc: 0.7678, Time: 56.0, lr: 0.006000\n",
            "ConvMixer: Epoch: 6 | Train Acc: 0.7806, Test Acc: 0.7962, Time: 56.7, lr: 0.007000\n",
            "ConvMixer: Epoch: 7 | Train Acc: 0.7939, Test Acc: 0.7931, Time: 55.8, lr: 0.008000\n",
            "ConvMixer: Epoch: 8 | Train Acc: 0.8035, Test Acc: 0.8144, Time: 56.0, lr: 0.009000\n",
            "ConvMixer: Epoch: 9 | Train Acc: 0.8133, Test Acc: 0.8229, Time: 56.7, lr: 0.010000\n",
            "ConvMixer: Epoch: 10 | Train Acc: 0.8251, Test Acc: 0.8296, Time: 55.7, lr: 0.009050\n",
            "ConvMixer: Epoch: 11 | Train Acc: 0.8413, Test Acc: 0.8508, Time: 55.6, lr: 0.008100\n",
            "ConvMixer: Epoch: 12 | Train Acc: 0.8551, Test Acc: 0.8639, Time: 55.8, lr: 0.007150\n",
            "ConvMixer: Epoch: 13 | Train Acc: 0.8699, Test Acc: 0.8734, Time: 56.1, lr: 0.006200\n",
            "ConvMixer: Epoch: 14 | Train Acc: 0.8806, Test Acc: 0.8804, Time: 55.7, lr: 0.005250\n",
            "ConvMixer: Epoch: 15 | Train Acc: 0.8888, Test Acc: 0.8920, Time: 55.7, lr: 0.004300\n",
            "ConvMixer: Epoch: 16 | Train Acc: 0.8987, Test Acc: 0.8974, Time: 56.5, lr: 0.003350\n",
            "ConvMixer: Epoch: 17 | Train Acc: 0.9119, Test Acc: 0.8994, Time: 54.9, lr: 0.002400\n",
            "ConvMixer: Epoch: 17 | Train Acc: 0.9119, Test Acc: 0.8994, Time: 54.9, lr: 0.002400\n",
            "ConvMixer: Epoch: 18 | Train Acc: 0.9212, Test Acc: 0.9063, Time: 53.9, lr: 0.001450\n",
            "ConvMixer: Epoch: 18 | Train Acc: 0.9212, Test Acc: 0.9063, Time: 53.9, lr: 0.001450\n",
            "ConvMixer: Epoch: 19 | Train Acc: 0.9277, Test Acc: 0.9125, Time: 54.5, lr: 0.000500\n",
            "ConvMixer: Epoch: 19 | Train Acc: 0.9277, Test Acc: 0.9125, Time: 54.5, lr: 0.000500\n",
            "ConvMixer: Epoch: 20 | Train Acc: 0.9354, Test Acc: 0.9140, Time: 53.6, lr: 0.000400\n",
            "ConvMixer: Epoch: 20 | Train Acc: 0.9354, Test Acc: 0.9140, Time: 53.6, lr: 0.000400\n",
            "ConvMixer: Epoch: 21 | Train Acc: 0.9366, Test Acc: 0.9143, Time: 54.6, lr: 0.000300\n",
            "ConvMixer: Epoch: 21 | Train Acc: 0.9366, Test Acc: 0.9143, Time: 54.6, lr: 0.000300\n",
            "ConvMixer: Epoch: 22 | Train Acc: 0.9367, Test Acc: 0.9134, Time: 53.7, lr: 0.000200\n",
            "ConvMixer: Epoch: 22 | Train Acc: 0.9367, Test Acc: 0.9134, Time: 53.7, lr: 0.000200\n",
            "ConvMixer: Epoch: 23 | Train Acc: 0.9383, Test Acc: 0.9137, Time: 53.7, lr: 0.000100\n",
            "ConvMixer: Epoch: 23 | Train Acc: 0.9383, Test Acc: 0.9137, Time: 53.7, lr: 0.000100\n",
            "ConvMixer: Epoch: 24 | Train Acc: 0.9386, Test Acc: 0.9132, Time: 54.2, lr: 0.000000\n",
            "ConvMixer: Epoch: 24 | Train Acc: 0.9386, Test Acc: 0.9132, Time: 54.2, lr: 0.000000\n"
          ]
        }
      ],
      "source": [
        "lr_scheduler = lambda t: np.interp([t], [0, epochs*2//5, epochs*4//5, epochs],\n",
        "                                    [0,0.01,0.01/20.0,0])[0]\n",
        "\n",
        "depth = 10\n",
        "hdim = 256\n",
        "psize = 2\n",
        "conv_ks = 5\n",
        "clip_norm = True\n",
        "\n",
        "model = ConvMixer(hdim, depth, patch_size=psize, kernel_size=conv_ks, n_classes=10)\n",
        "model = nn.DataParallel(model, device_ids=[0]).cuda()\n",
        "\n",
        "opt = optim.AdamW(model.parameters(), lr=0.01, weight_decay=0.01)\n",
        "criterion = nn.CrossEntropyLoss()\n",
        "scaler = torch.cuda.amp.GradScaler()\n",
        "\n",
        "for epoch in range(epochs):\n",
        "    start = time.time()\n",
        "    train_loss, train_acc, n = 0, 0, 0\n",
        "    for i, (X,y) in enumerate(trainloader):\n",
        "        model.train()\n",
        "        X, y = X.cuda(), y.cuda()\n",
        "\n",
        "        lr = lr_scheduler(epoch + (i +1)/len(trainloader))\n",
        "        opt.param_groups[0].update(lr=lr)\n",
        "\n",
        "        opt.zero_grad()\n",
        "        with torch.cuda.amp.autocast():\n",
        "            output = model(X)\n",
        "            loss = criterion(output, y)\n",
        "\n",
        "        scaler.scale(loss).backward()\n",
        "        if clip_norm:\n",
        "            scaler.unscale_(opt)\n",
        "            nn.utils.clip_grad_norm_(model.parameters(), 1.0)\n",
        "        \n",
        "        scaler.step(opt)\n",
        "        scaler.update()\n",
        "\n",
        "        train_loss += loss.item() * y.size(0)\n",
        "        train_acc += (output.max(1)[1] == y).sum().item()\n",
        "        n += y.size(0)\n",
        "\n",
        "    model.eval()\n",
        "    test_acc, m = 0, 0\n",
        "\n",
        "    with torch.no_grad():\n",
        "        for i, (X,y) in enumerate(testloader):\n",
        "            X,y = X.cuda(), y.cuda()\n",
        "            with torch.cuda.amp.autocast():\n",
        "                output = model(X)\n",
        "\n",
        "            test_acc += (output.max(1)[1] == y).sum().item()\n",
        "            m += y.size(0)\n",
        "\n",
        "    print(f'ConvMixer: Epoch: {epoch} | Train Acc: {train_acc/n:.4f}, Test Acc: {test_acc/m:.4f}, Time: {time.time() - start:.1f}, lr: {lr:.6f}')\n"
      ]
    },
    {
      "cell_type": "code",
      "source": [],
      "metadata": {
        "id": "81YRo8zSR64_"
      },
      "execution_count": null,
      "outputs": []
    }
  ],
  "metadata": {
    "accelerator": "GPU",
    "colab": {
      "provenance": [],
      "include_colab_link": true
    },
    "gpuClass": "standard",
    "kernelspec": {
      "display_name": "Python 3",
      "name": "python3"
    },
    "language_info": {
      "name": "python"
    }
  },
  "nbformat": 4,
  "nbformat_minor": 0
}