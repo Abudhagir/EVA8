{
  "nbformat": 4,
  "nbformat_minor": 0,
  "metadata": {
    "colab": {
      "provenance": [],
      "toc_visible": true
    },
    "kernelspec": {
      "name": "python3",
      "display_name": "Python 3"
    },
    "language_info": {
      "name": "python"
    },
    "accelerator": "GPU",
    "widgets": {
      "application/vnd.jupyter.widget-state+json": {
        "6d623245e2c741c39f2df7ca9a2f962d": {
          "model_module": "@jupyter-widgets/controls",
          "model_name": "HBoxModel",
          "model_module_version": "1.5.0",
          "state": {
            "_dom_classes": [],
            "_model_module": "@jupyter-widgets/controls",
            "_model_module_version": "1.5.0",
            "_model_name": "HBoxModel",
            "_view_count": null,
            "_view_module": "@jupyter-widgets/controls",
            "_view_module_version": "1.5.0",
            "_view_name": "HBoxView",
            "box_style": "",
            "children": [
              "IPY_MODEL_9f51b93f765e47d1bb4b0bf09f90f5ec",
              "IPY_MODEL_2a3db1675f9b4037b3b92bb3ad9675e1",
              "IPY_MODEL_0ca45fd53dbc45e68ed6dd3a9b72111b"
            ],
            "layout": "IPY_MODEL_414b1f0a3c4b4026819127d74068d72a"
          }
        },
        "9f51b93f765e47d1bb4b0bf09f90f5ec": {
          "model_module": "@jupyter-widgets/controls",
          "model_name": "HTMLModel",
          "model_module_version": "1.5.0",
          "state": {
            "_dom_classes": [],
            "_model_module": "@jupyter-widgets/controls",
            "_model_module_version": "1.5.0",
            "_model_name": "HTMLModel",
            "_view_count": null,
            "_view_module": "@jupyter-widgets/controls",
            "_view_module_version": "1.5.0",
            "_view_name": "HTMLView",
            "description": "",
            "description_tooltip": null,
            "layout": "IPY_MODEL_5d67d3b17e484ae2a5d167e09c76a809",
            "placeholder": "​",
            "style": "IPY_MODEL_88cdc839ae844844a884d85965895a5e",
            "value": "100%"
          }
        },
        "2a3db1675f9b4037b3b92bb3ad9675e1": {
          "model_module": "@jupyter-widgets/controls",
          "model_name": "FloatProgressModel",
          "model_module_version": "1.5.0",
          "state": {
            "_dom_classes": [],
            "_model_module": "@jupyter-widgets/controls",
            "_model_module_version": "1.5.0",
            "_model_name": "FloatProgressModel",
            "_view_count": null,
            "_view_module": "@jupyter-widgets/controls",
            "_view_module_version": "1.5.0",
            "_view_name": "ProgressView",
            "bar_style": "success",
            "description": "",
            "description_tooltip": null,
            "layout": "IPY_MODEL_3963f700a01f401195140ae853c4e539",
            "max": 9912422,
            "min": 0,
            "orientation": "horizontal",
            "style": "IPY_MODEL_96d1daf8994448608c2b0f980d6c8cb7",
            "value": 9912422
          }
        },
        "0ca45fd53dbc45e68ed6dd3a9b72111b": {
          "model_module": "@jupyter-widgets/controls",
          "model_name": "HTMLModel",
          "model_module_version": "1.5.0",
          "state": {
            "_dom_classes": [],
            "_model_module": "@jupyter-widgets/controls",
            "_model_module_version": "1.5.0",
            "_model_name": "HTMLModel",
            "_view_count": null,
            "_view_module": "@jupyter-widgets/controls",
            "_view_module_version": "1.5.0",
            "_view_name": "HTMLView",
            "description": "",
            "description_tooltip": null,
            "layout": "IPY_MODEL_3fa8fe37785142ae80cb8998437d6a66",
            "placeholder": "​",
            "style": "IPY_MODEL_0cc658deb8f443d1b684d59d5d30e54d",
            "value": " 9912422/9912422 [00:00&lt;00:00, 9457609.08it/s]"
          }
        },
        "414b1f0a3c4b4026819127d74068d72a": {
          "model_module": "@jupyter-widgets/base",
          "model_name": "LayoutModel",
          "model_module_version": "1.2.0",
          "state": {
            "_model_module": "@jupyter-widgets/base",
            "_model_module_version": "1.2.0",
            "_model_name": "LayoutModel",
            "_view_count": null,
            "_view_module": "@jupyter-widgets/base",
            "_view_module_version": "1.2.0",
            "_view_name": "LayoutView",
            "align_content": null,
            "align_items": null,
            "align_self": null,
            "border": null,
            "bottom": null,
            "display": null,
            "flex": null,
            "flex_flow": null,
            "grid_area": null,
            "grid_auto_columns": null,
            "grid_auto_flow": null,
            "grid_auto_rows": null,
            "grid_column": null,
            "grid_gap": null,
            "grid_row": null,
            "grid_template_areas": null,
            "grid_template_columns": null,
            "grid_template_rows": null,
            "height": null,
            "justify_content": null,
            "justify_items": null,
            "left": null,
            "margin": null,
            "max_height": null,
            "max_width": null,
            "min_height": null,
            "min_width": null,
            "object_fit": null,
            "object_position": null,
            "order": null,
            "overflow": null,
            "overflow_x": null,
            "overflow_y": null,
            "padding": null,
            "right": null,
            "top": null,
            "visibility": null,
            "width": null
          }
        },
        "5d67d3b17e484ae2a5d167e09c76a809": {
          "model_module": "@jupyter-widgets/base",
          "model_name": "LayoutModel",
          "model_module_version": "1.2.0",
          "state": {
            "_model_module": "@jupyter-widgets/base",
            "_model_module_version": "1.2.0",
            "_model_name": "LayoutModel",
            "_view_count": null,
            "_view_module": "@jupyter-widgets/base",
            "_view_module_version": "1.2.0",
            "_view_name": "LayoutView",
            "align_content": null,
            "align_items": null,
            "align_self": null,
            "border": null,
            "bottom": null,
            "display": null,
            "flex": null,
            "flex_flow": null,
            "grid_area": null,
            "grid_auto_columns": null,
            "grid_auto_flow": null,
            "grid_auto_rows": null,
            "grid_column": null,
            "grid_gap": null,
            "grid_row": null,
            "grid_template_areas": null,
            "grid_template_columns": null,
            "grid_template_rows": null,
            "height": null,
            "justify_content": null,
            "justify_items": null,
            "left": null,
            "margin": null,
            "max_height": null,
            "max_width": null,
            "min_height": null,
            "min_width": null,
            "object_fit": null,
            "object_position": null,
            "order": null,
            "overflow": null,
            "overflow_x": null,
            "overflow_y": null,
            "padding": null,
            "right": null,
            "top": null,
            "visibility": null,
            "width": null
          }
        },
        "88cdc839ae844844a884d85965895a5e": {
          "model_module": "@jupyter-widgets/controls",
          "model_name": "DescriptionStyleModel",
          "model_module_version": "1.5.0",
          "state": {
            "_model_module": "@jupyter-widgets/controls",
            "_model_module_version": "1.5.0",
            "_model_name": "DescriptionStyleModel",
            "_view_count": null,
            "_view_module": "@jupyter-widgets/base",
            "_view_module_version": "1.2.0",
            "_view_name": "StyleView",
            "description_width": ""
          }
        },
        "3963f700a01f401195140ae853c4e539": {
          "model_module": "@jupyter-widgets/base",
          "model_name": "LayoutModel",
          "model_module_version": "1.2.0",
          "state": {
            "_model_module": "@jupyter-widgets/base",
            "_model_module_version": "1.2.0",
            "_model_name": "LayoutModel",
            "_view_count": null,
            "_view_module": "@jupyter-widgets/base",
            "_view_module_version": "1.2.0",
            "_view_name": "LayoutView",
            "align_content": null,
            "align_items": null,
            "align_self": null,
            "border": null,
            "bottom": null,
            "display": null,
            "flex": null,
            "flex_flow": null,
            "grid_area": null,
            "grid_auto_columns": null,
            "grid_auto_flow": null,
            "grid_auto_rows": null,
            "grid_column": null,
            "grid_gap": null,
            "grid_row": null,
            "grid_template_areas": null,
            "grid_template_columns": null,
            "grid_template_rows": null,
            "height": null,
            "justify_content": null,
            "justify_items": null,
            "left": null,
            "margin": null,
            "max_height": null,
            "max_width": null,
            "min_height": null,
            "min_width": null,
            "object_fit": null,
            "object_position": null,
            "order": null,
            "overflow": null,
            "overflow_x": null,
            "overflow_y": null,
            "padding": null,
            "right": null,
            "top": null,
            "visibility": null,
            "width": null
          }
        },
        "96d1daf8994448608c2b0f980d6c8cb7": {
          "model_module": "@jupyter-widgets/controls",
          "model_name": "ProgressStyleModel",
          "model_module_version": "1.5.0",
          "state": {
            "_model_module": "@jupyter-widgets/controls",
            "_model_module_version": "1.5.0",
            "_model_name": "ProgressStyleModel",
            "_view_count": null,
            "_view_module": "@jupyter-widgets/base",
            "_view_module_version": "1.2.0",
            "_view_name": "StyleView",
            "bar_color": null,
            "description_width": ""
          }
        },
        "3fa8fe37785142ae80cb8998437d6a66": {
          "model_module": "@jupyter-widgets/base",
          "model_name": "LayoutModel",
          "model_module_version": "1.2.0",
          "state": {
            "_model_module": "@jupyter-widgets/base",
            "_model_module_version": "1.2.0",
            "_model_name": "LayoutModel",
            "_view_count": null,
            "_view_module": "@jupyter-widgets/base",
            "_view_module_version": "1.2.0",
            "_view_name": "LayoutView",
            "align_content": null,
            "align_items": null,
            "align_self": null,
            "border": null,
            "bottom": null,
            "display": null,
            "flex": null,
            "flex_flow": null,
            "grid_area": null,
            "grid_auto_columns": null,
            "grid_auto_flow": null,
            "grid_auto_rows": null,
            "grid_column": null,
            "grid_gap": null,
            "grid_row": null,
            "grid_template_areas": null,
            "grid_template_columns": null,
            "grid_template_rows": null,
            "height": null,
            "justify_content": null,
            "justify_items": null,
            "left": null,
            "margin": null,
            "max_height": null,
            "max_width": null,
            "min_height": null,
            "min_width": null,
            "object_fit": null,
            "object_position": null,
            "order": null,
            "overflow": null,
            "overflow_x": null,
            "overflow_y": null,
            "padding": null,
            "right": null,
            "top": null,
            "visibility": null,
            "width": null
          }
        },
        "0cc658deb8f443d1b684d59d5d30e54d": {
          "model_module": "@jupyter-widgets/controls",
          "model_name": "DescriptionStyleModel",
          "model_module_version": "1.5.0",
          "state": {
            "_model_module": "@jupyter-widgets/controls",
            "_model_module_version": "1.5.0",
            "_model_name": "DescriptionStyleModel",
            "_view_count": null,
            "_view_module": "@jupyter-widgets/base",
            "_view_module_version": "1.2.0",
            "_view_name": "StyleView",
            "description_width": ""
          }
        },
        "7e6229989590469499c3bcdae4bd2043": {
          "model_module": "@jupyter-widgets/controls",
          "model_name": "HBoxModel",
          "model_module_version": "1.5.0",
          "state": {
            "_dom_classes": [],
            "_model_module": "@jupyter-widgets/controls",
            "_model_module_version": "1.5.0",
            "_model_name": "HBoxModel",
            "_view_count": null,
            "_view_module": "@jupyter-widgets/controls",
            "_view_module_version": "1.5.0",
            "_view_name": "HBoxView",
            "box_style": "",
            "children": [
              "IPY_MODEL_feb42492246b416181b081fc7287ec6b",
              "IPY_MODEL_3ae309bd96a149d5b2b3ef8f5ebb4b31",
              "IPY_MODEL_0d791ac4470244c9b1451d0cb865276a"
            ],
            "layout": "IPY_MODEL_b38ba20d6bee4aee8c86d6dd583816fc"
          }
        },
        "feb42492246b416181b081fc7287ec6b": {
          "model_module": "@jupyter-widgets/controls",
          "model_name": "HTMLModel",
          "model_module_version": "1.5.0",
          "state": {
            "_dom_classes": [],
            "_model_module": "@jupyter-widgets/controls",
            "_model_module_version": "1.5.0",
            "_model_name": "HTMLModel",
            "_view_count": null,
            "_view_module": "@jupyter-widgets/controls",
            "_view_module_version": "1.5.0",
            "_view_name": "HTMLView",
            "description": "",
            "description_tooltip": null,
            "layout": "IPY_MODEL_28f741832ba9438fa88f9bf0077ea9b2",
            "placeholder": "​",
            "style": "IPY_MODEL_f079b219d21c462a943f191a25be8eef",
            "value": "100%"
          }
        },
        "3ae309bd96a149d5b2b3ef8f5ebb4b31": {
          "model_module": "@jupyter-widgets/controls",
          "model_name": "FloatProgressModel",
          "model_module_version": "1.5.0",
          "state": {
            "_dom_classes": [],
            "_model_module": "@jupyter-widgets/controls",
            "_model_module_version": "1.5.0",
            "_model_name": "FloatProgressModel",
            "_view_count": null,
            "_view_module": "@jupyter-widgets/controls",
            "_view_module_version": "1.5.0",
            "_view_name": "ProgressView",
            "bar_style": "success",
            "description": "",
            "description_tooltip": null,
            "layout": "IPY_MODEL_51aa55695cd84b5eabbd1296c5198e3a",
            "max": 28881,
            "min": 0,
            "orientation": "horizontal",
            "style": "IPY_MODEL_c18a65ea35e14f3c8f466209fdbd117f",
            "value": 28881
          }
        },
        "0d791ac4470244c9b1451d0cb865276a": {
          "model_module": "@jupyter-widgets/controls",
          "model_name": "HTMLModel",
          "model_module_version": "1.5.0",
          "state": {
            "_dom_classes": [],
            "_model_module": "@jupyter-widgets/controls",
            "_model_module_version": "1.5.0",
            "_model_name": "HTMLModel",
            "_view_count": null,
            "_view_module": "@jupyter-widgets/controls",
            "_view_module_version": "1.5.0",
            "_view_name": "HTMLView",
            "description": "",
            "description_tooltip": null,
            "layout": "IPY_MODEL_6fa4956badb448369db83852ad3ba750",
            "placeholder": "​",
            "style": "IPY_MODEL_00b9c8baee9a473aad29d464cf4d1aa8",
            "value": " 28881/28881 [00:00&lt;00:00, 917632.08it/s]"
          }
        },
        "b38ba20d6bee4aee8c86d6dd583816fc": {
          "model_module": "@jupyter-widgets/base",
          "model_name": "LayoutModel",
          "model_module_version": "1.2.0",
          "state": {
            "_model_module": "@jupyter-widgets/base",
            "_model_module_version": "1.2.0",
            "_model_name": "LayoutModel",
            "_view_count": null,
            "_view_module": "@jupyter-widgets/base",
            "_view_module_version": "1.2.0",
            "_view_name": "LayoutView",
            "align_content": null,
            "align_items": null,
            "align_self": null,
            "border": null,
            "bottom": null,
            "display": null,
            "flex": null,
            "flex_flow": null,
            "grid_area": null,
            "grid_auto_columns": null,
            "grid_auto_flow": null,
            "grid_auto_rows": null,
            "grid_column": null,
            "grid_gap": null,
            "grid_row": null,
            "grid_template_areas": null,
            "grid_template_columns": null,
            "grid_template_rows": null,
            "height": null,
            "justify_content": null,
            "justify_items": null,
            "left": null,
            "margin": null,
            "max_height": null,
            "max_width": null,
            "min_height": null,
            "min_width": null,
            "object_fit": null,
            "object_position": null,
            "order": null,
            "overflow": null,
            "overflow_x": null,
            "overflow_y": null,
            "padding": null,
            "right": null,
            "top": null,
            "visibility": null,
            "width": null
          }
        },
        "28f741832ba9438fa88f9bf0077ea9b2": {
          "model_module": "@jupyter-widgets/base",
          "model_name": "LayoutModel",
          "model_module_version": "1.2.0",
          "state": {
            "_model_module": "@jupyter-widgets/base",
            "_model_module_version": "1.2.0",
            "_model_name": "LayoutModel",
            "_view_count": null,
            "_view_module": "@jupyter-widgets/base",
            "_view_module_version": "1.2.0",
            "_view_name": "LayoutView",
            "align_content": null,
            "align_items": null,
            "align_self": null,
            "border": null,
            "bottom": null,
            "display": null,
            "flex": null,
            "flex_flow": null,
            "grid_area": null,
            "grid_auto_columns": null,
            "grid_auto_flow": null,
            "grid_auto_rows": null,
            "grid_column": null,
            "grid_gap": null,
            "grid_row": null,
            "grid_template_areas": null,
            "grid_template_columns": null,
            "grid_template_rows": null,
            "height": null,
            "justify_content": null,
            "justify_items": null,
            "left": null,
            "margin": null,
            "max_height": null,
            "max_width": null,
            "min_height": null,
            "min_width": null,
            "object_fit": null,
            "object_position": null,
            "order": null,
            "overflow": null,
            "overflow_x": null,
            "overflow_y": null,
            "padding": null,
            "right": null,
            "top": null,
            "visibility": null,
            "width": null
          }
        },
        "f079b219d21c462a943f191a25be8eef": {
          "model_module": "@jupyter-widgets/controls",
          "model_name": "DescriptionStyleModel",
          "model_module_version": "1.5.0",
          "state": {
            "_model_module": "@jupyter-widgets/controls",
            "_model_module_version": "1.5.0",
            "_model_name": "DescriptionStyleModel",
            "_view_count": null,
            "_view_module": "@jupyter-widgets/base",
            "_view_module_version": "1.2.0",
            "_view_name": "StyleView",
            "description_width": ""
          }
        },
        "51aa55695cd84b5eabbd1296c5198e3a": {
          "model_module": "@jupyter-widgets/base",
          "model_name": "LayoutModel",
          "model_module_version": "1.2.0",
          "state": {
            "_model_module": "@jupyter-widgets/base",
            "_model_module_version": "1.2.0",
            "_model_name": "LayoutModel",
            "_view_count": null,
            "_view_module": "@jupyter-widgets/base",
            "_view_module_version": "1.2.0",
            "_view_name": "LayoutView",
            "align_content": null,
            "align_items": null,
            "align_self": null,
            "border": null,
            "bottom": null,
            "display": null,
            "flex": null,
            "flex_flow": null,
            "grid_area": null,
            "grid_auto_columns": null,
            "grid_auto_flow": null,
            "grid_auto_rows": null,
            "grid_column": null,
            "grid_gap": null,
            "grid_row": null,
            "grid_template_areas": null,
            "grid_template_columns": null,
            "grid_template_rows": null,
            "height": null,
            "justify_content": null,
            "justify_items": null,
            "left": null,
            "margin": null,
            "max_height": null,
            "max_width": null,
            "min_height": null,
            "min_width": null,
            "object_fit": null,
            "object_position": null,
            "order": null,
            "overflow": null,
            "overflow_x": null,
            "overflow_y": null,
            "padding": null,
            "right": null,
            "top": null,
            "visibility": null,
            "width": null
          }
        },
        "c18a65ea35e14f3c8f466209fdbd117f": {
          "model_module": "@jupyter-widgets/controls",
          "model_name": "ProgressStyleModel",
          "model_module_version": "1.5.0",
          "state": {
            "_model_module": "@jupyter-widgets/controls",
            "_model_module_version": "1.5.0",
            "_model_name": "ProgressStyleModel",
            "_view_count": null,
            "_view_module": "@jupyter-widgets/base",
            "_view_module_version": "1.2.0",
            "_view_name": "StyleView",
            "bar_color": null,
            "description_width": ""
          }
        },
        "6fa4956badb448369db83852ad3ba750": {
          "model_module": "@jupyter-widgets/base",
          "model_name": "LayoutModel",
          "model_module_version": "1.2.0",
          "state": {
            "_model_module": "@jupyter-widgets/base",
            "_model_module_version": "1.2.0",
            "_model_name": "LayoutModel",
            "_view_count": null,
            "_view_module": "@jupyter-widgets/base",
            "_view_module_version": "1.2.0",
            "_view_name": "LayoutView",
            "align_content": null,
            "align_items": null,
            "align_self": null,
            "border": null,
            "bottom": null,
            "display": null,
            "flex": null,
            "flex_flow": null,
            "grid_area": null,
            "grid_auto_columns": null,
            "grid_auto_flow": null,
            "grid_auto_rows": null,
            "grid_column": null,
            "grid_gap": null,
            "grid_row": null,
            "grid_template_areas": null,
            "grid_template_columns": null,
            "grid_template_rows": null,
            "height": null,
            "justify_content": null,
            "justify_items": null,
            "left": null,
            "margin": null,
            "max_height": null,
            "max_width": null,
            "min_height": null,
            "min_width": null,
            "object_fit": null,
            "object_position": null,
            "order": null,
            "overflow": null,
            "overflow_x": null,
            "overflow_y": null,
            "padding": null,
            "right": null,
            "top": null,
            "visibility": null,
            "width": null
          }
        },
        "00b9c8baee9a473aad29d464cf4d1aa8": {
          "model_module": "@jupyter-widgets/controls",
          "model_name": "DescriptionStyleModel",
          "model_module_version": "1.5.0",
          "state": {
            "_model_module": "@jupyter-widgets/controls",
            "_model_module_version": "1.5.0",
            "_model_name": "DescriptionStyleModel",
            "_view_count": null,
            "_view_module": "@jupyter-widgets/base",
            "_view_module_version": "1.2.0",
            "_view_name": "StyleView",
            "description_width": ""
          }
        },
        "0e1801c71849429a9f1afb60023aaf02": {
          "model_module": "@jupyter-widgets/controls",
          "model_name": "HBoxModel",
          "model_module_version": "1.5.0",
          "state": {
            "_dom_classes": [],
            "_model_module": "@jupyter-widgets/controls",
            "_model_module_version": "1.5.0",
            "_model_name": "HBoxModel",
            "_view_count": null,
            "_view_module": "@jupyter-widgets/controls",
            "_view_module_version": "1.5.0",
            "_view_name": "HBoxView",
            "box_style": "",
            "children": [
              "IPY_MODEL_90a845bb0bc8415b871682a7228bdaf0",
              "IPY_MODEL_7c6c0fd6dd6d42a3bd5fd90f15ee52c5",
              "IPY_MODEL_2b291461a2ac4e5daa9eb942ff171d79"
            ],
            "layout": "IPY_MODEL_89202ec1659d40df8d1bf778d419aae9"
          }
        },
        "90a845bb0bc8415b871682a7228bdaf0": {
          "model_module": "@jupyter-widgets/controls",
          "model_name": "HTMLModel",
          "model_module_version": "1.5.0",
          "state": {
            "_dom_classes": [],
            "_model_module": "@jupyter-widgets/controls",
            "_model_module_version": "1.5.0",
            "_model_name": "HTMLModel",
            "_view_count": null,
            "_view_module": "@jupyter-widgets/controls",
            "_view_module_version": "1.5.0",
            "_view_name": "HTMLView",
            "description": "",
            "description_tooltip": null,
            "layout": "IPY_MODEL_e9db6d9fc7784f9d92229d13af3b1625",
            "placeholder": "​",
            "style": "IPY_MODEL_ff717afc98644aaaa7fd4bd06ba6b1f8",
            "value": "100%"
          }
        },
        "7c6c0fd6dd6d42a3bd5fd90f15ee52c5": {
          "model_module": "@jupyter-widgets/controls",
          "model_name": "FloatProgressModel",
          "model_module_version": "1.5.0",
          "state": {
            "_dom_classes": [],
            "_model_module": "@jupyter-widgets/controls",
            "_model_module_version": "1.5.0",
            "_model_name": "FloatProgressModel",
            "_view_count": null,
            "_view_module": "@jupyter-widgets/controls",
            "_view_module_version": "1.5.0",
            "_view_name": "ProgressView",
            "bar_style": "success",
            "description": "",
            "description_tooltip": null,
            "layout": "IPY_MODEL_5e8e5ed172aa4d358a9dfd64cdedb01e",
            "max": 1648877,
            "min": 0,
            "orientation": "horizontal",
            "style": "IPY_MODEL_c1b14e29958e41c1af12801191dc0adc",
            "value": 1648877
          }
        },
        "2b291461a2ac4e5daa9eb942ff171d79": {
          "model_module": "@jupyter-widgets/controls",
          "model_name": "HTMLModel",
          "model_module_version": "1.5.0",
          "state": {
            "_dom_classes": [],
            "_model_module": "@jupyter-widgets/controls",
            "_model_module_version": "1.5.0",
            "_model_name": "HTMLModel",
            "_view_count": null,
            "_view_module": "@jupyter-widgets/controls",
            "_view_module_version": "1.5.0",
            "_view_name": "HTMLView",
            "description": "",
            "description_tooltip": null,
            "layout": "IPY_MODEL_f508d39ff4af4cedbdcdb005a641a846",
            "placeholder": "​",
            "style": "IPY_MODEL_19889523fbcc40d6849cd5cb26e0998d",
            "value": " 1648877/1648877 [00:00&lt;00:00, 17775899.34it/s]"
          }
        },
        "89202ec1659d40df8d1bf778d419aae9": {
          "model_module": "@jupyter-widgets/base",
          "model_name": "LayoutModel",
          "model_module_version": "1.2.0",
          "state": {
            "_model_module": "@jupyter-widgets/base",
            "_model_module_version": "1.2.0",
            "_model_name": "LayoutModel",
            "_view_count": null,
            "_view_module": "@jupyter-widgets/base",
            "_view_module_version": "1.2.0",
            "_view_name": "LayoutView",
            "align_content": null,
            "align_items": null,
            "align_self": null,
            "border": null,
            "bottom": null,
            "display": null,
            "flex": null,
            "flex_flow": null,
            "grid_area": null,
            "grid_auto_columns": null,
            "grid_auto_flow": null,
            "grid_auto_rows": null,
            "grid_column": null,
            "grid_gap": null,
            "grid_row": null,
            "grid_template_areas": null,
            "grid_template_columns": null,
            "grid_template_rows": null,
            "height": null,
            "justify_content": null,
            "justify_items": null,
            "left": null,
            "margin": null,
            "max_height": null,
            "max_width": null,
            "min_height": null,
            "min_width": null,
            "object_fit": null,
            "object_position": null,
            "order": null,
            "overflow": null,
            "overflow_x": null,
            "overflow_y": null,
            "padding": null,
            "right": null,
            "top": null,
            "visibility": null,
            "width": null
          }
        },
        "e9db6d9fc7784f9d92229d13af3b1625": {
          "model_module": "@jupyter-widgets/base",
          "model_name": "LayoutModel",
          "model_module_version": "1.2.0",
          "state": {
            "_model_module": "@jupyter-widgets/base",
            "_model_module_version": "1.2.0",
            "_model_name": "LayoutModel",
            "_view_count": null,
            "_view_module": "@jupyter-widgets/base",
            "_view_module_version": "1.2.0",
            "_view_name": "LayoutView",
            "align_content": null,
            "align_items": null,
            "align_self": null,
            "border": null,
            "bottom": null,
            "display": null,
            "flex": null,
            "flex_flow": null,
            "grid_area": null,
            "grid_auto_columns": null,
            "grid_auto_flow": null,
            "grid_auto_rows": null,
            "grid_column": null,
            "grid_gap": null,
            "grid_row": null,
            "grid_template_areas": null,
            "grid_template_columns": null,
            "grid_template_rows": null,
            "height": null,
            "justify_content": null,
            "justify_items": null,
            "left": null,
            "margin": null,
            "max_height": null,
            "max_width": null,
            "min_height": null,
            "min_width": null,
            "object_fit": null,
            "object_position": null,
            "order": null,
            "overflow": null,
            "overflow_x": null,
            "overflow_y": null,
            "padding": null,
            "right": null,
            "top": null,
            "visibility": null,
            "width": null
          }
        },
        "ff717afc98644aaaa7fd4bd06ba6b1f8": {
          "model_module": "@jupyter-widgets/controls",
          "model_name": "DescriptionStyleModel",
          "model_module_version": "1.5.0",
          "state": {
            "_model_module": "@jupyter-widgets/controls",
            "_model_module_version": "1.5.0",
            "_model_name": "DescriptionStyleModel",
            "_view_count": null,
            "_view_module": "@jupyter-widgets/base",
            "_view_module_version": "1.2.0",
            "_view_name": "StyleView",
            "description_width": ""
          }
        },
        "5e8e5ed172aa4d358a9dfd64cdedb01e": {
          "model_module": "@jupyter-widgets/base",
          "model_name": "LayoutModel",
          "model_module_version": "1.2.0",
          "state": {
            "_model_module": "@jupyter-widgets/base",
            "_model_module_version": "1.2.0",
            "_model_name": "LayoutModel",
            "_view_count": null,
            "_view_module": "@jupyter-widgets/base",
            "_view_module_version": "1.2.0",
            "_view_name": "LayoutView",
            "align_content": null,
            "align_items": null,
            "align_self": null,
            "border": null,
            "bottom": null,
            "display": null,
            "flex": null,
            "flex_flow": null,
            "grid_area": null,
            "grid_auto_columns": null,
            "grid_auto_flow": null,
            "grid_auto_rows": null,
            "grid_column": null,
            "grid_gap": null,
            "grid_row": null,
            "grid_template_areas": null,
            "grid_template_columns": null,
            "grid_template_rows": null,
            "height": null,
            "justify_content": null,
            "justify_items": null,
            "left": null,
            "margin": null,
            "max_height": null,
            "max_width": null,
            "min_height": null,
            "min_width": null,
            "object_fit": null,
            "object_position": null,
            "order": null,
            "overflow": null,
            "overflow_x": null,
            "overflow_y": null,
            "padding": null,
            "right": null,
            "top": null,
            "visibility": null,
            "width": null
          }
        },
        "c1b14e29958e41c1af12801191dc0adc": {
          "model_module": "@jupyter-widgets/controls",
          "model_name": "ProgressStyleModel",
          "model_module_version": "1.5.0",
          "state": {
            "_model_module": "@jupyter-widgets/controls",
            "_model_module_version": "1.5.0",
            "_model_name": "ProgressStyleModel",
            "_view_count": null,
            "_view_module": "@jupyter-widgets/base",
            "_view_module_version": "1.2.0",
            "_view_name": "StyleView",
            "bar_color": null,
            "description_width": ""
          }
        },
        "f508d39ff4af4cedbdcdb005a641a846": {
          "model_module": "@jupyter-widgets/base",
          "model_name": "LayoutModel",
          "model_module_version": "1.2.0",
          "state": {
            "_model_module": "@jupyter-widgets/base",
            "_model_module_version": "1.2.0",
            "_model_name": "LayoutModel",
            "_view_count": null,
            "_view_module": "@jupyter-widgets/base",
            "_view_module_version": "1.2.0",
            "_view_name": "LayoutView",
            "align_content": null,
            "align_items": null,
            "align_self": null,
            "border": null,
            "bottom": null,
            "display": null,
            "flex": null,
            "flex_flow": null,
            "grid_area": null,
            "grid_auto_columns": null,
            "grid_auto_flow": null,
            "grid_auto_rows": null,
            "grid_column": null,
            "grid_gap": null,
            "grid_row": null,
            "grid_template_areas": null,
            "grid_template_columns": null,
            "grid_template_rows": null,
            "height": null,
            "justify_content": null,
            "justify_items": null,
            "left": null,
            "margin": null,
            "max_height": null,
            "max_width": null,
            "min_height": null,
            "min_width": null,
            "object_fit": null,
            "object_position": null,
            "order": null,
            "overflow": null,
            "overflow_x": null,
            "overflow_y": null,
            "padding": null,
            "right": null,
            "top": null,
            "visibility": null,
            "width": null
          }
        },
        "19889523fbcc40d6849cd5cb26e0998d": {
          "model_module": "@jupyter-widgets/controls",
          "model_name": "DescriptionStyleModel",
          "model_module_version": "1.5.0",
          "state": {
            "_model_module": "@jupyter-widgets/controls",
            "_model_module_version": "1.5.0",
            "_model_name": "DescriptionStyleModel",
            "_view_count": null,
            "_view_module": "@jupyter-widgets/base",
            "_view_module_version": "1.2.0",
            "_view_name": "StyleView",
            "description_width": ""
          }
        },
        "18d0a205b9584f978fa0c86f9ce30599": {
          "model_module": "@jupyter-widgets/controls",
          "model_name": "HBoxModel",
          "model_module_version": "1.5.0",
          "state": {
            "_dom_classes": [],
            "_model_module": "@jupyter-widgets/controls",
            "_model_module_version": "1.5.0",
            "_model_name": "HBoxModel",
            "_view_count": null,
            "_view_module": "@jupyter-widgets/controls",
            "_view_module_version": "1.5.0",
            "_view_name": "HBoxView",
            "box_style": "",
            "children": [
              "IPY_MODEL_e900fe0b72414ca19e8db5bdae7f14dd",
              "IPY_MODEL_2d1498d6d9334a32a13b21c1aa734648",
              "IPY_MODEL_59ed7af6a7f94489aa8c2fa54e397c33"
            ],
            "layout": "IPY_MODEL_68f7082476954f8d9167f25dc7126f4b"
          }
        },
        "e900fe0b72414ca19e8db5bdae7f14dd": {
          "model_module": "@jupyter-widgets/controls",
          "model_name": "HTMLModel",
          "model_module_version": "1.5.0",
          "state": {
            "_dom_classes": [],
            "_model_module": "@jupyter-widgets/controls",
            "_model_module_version": "1.5.0",
            "_model_name": "HTMLModel",
            "_view_count": null,
            "_view_module": "@jupyter-widgets/controls",
            "_view_module_version": "1.5.0",
            "_view_name": "HTMLView",
            "description": "",
            "description_tooltip": null,
            "layout": "IPY_MODEL_1f774f0df66c4b01a9ba0c221f599962",
            "placeholder": "​",
            "style": "IPY_MODEL_482226b84c4644149ef645dd18a54e98",
            "value": "100%"
          }
        },
        "2d1498d6d9334a32a13b21c1aa734648": {
          "model_module": "@jupyter-widgets/controls",
          "model_name": "FloatProgressModel",
          "model_module_version": "1.5.0",
          "state": {
            "_dom_classes": [],
            "_model_module": "@jupyter-widgets/controls",
            "_model_module_version": "1.5.0",
            "_model_name": "FloatProgressModel",
            "_view_count": null,
            "_view_module": "@jupyter-widgets/controls",
            "_view_module_version": "1.5.0",
            "_view_name": "ProgressView",
            "bar_style": "success",
            "description": "",
            "description_tooltip": null,
            "layout": "IPY_MODEL_7bd3150757904645a68a9d9ff8a746b9",
            "max": 4542,
            "min": 0,
            "orientation": "horizontal",
            "style": "IPY_MODEL_af290bc50ddd4131b6a19773a31014fe",
            "value": 4542
          }
        },
        "59ed7af6a7f94489aa8c2fa54e397c33": {
          "model_module": "@jupyter-widgets/controls",
          "model_name": "HTMLModel",
          "model_module_version": "1.5.0",
          "state": {
            "_dom_classes": [],
            "_model_module": "@jupyter-widgets/controls",
            "_model_module_version": "1.5.0",
            "_model_name": "HTMLModel",
            "_view_count": null,
            "_view_module": "@jupyter-widgets/controls",
            "_view_module_version": "1.5.0",
            "_view_name": "HTMLView",
            "description": "",
            "description_tooltip": null,
            "layout": "IPY_MODEL_9e0fcf996e974dfab851f8ac6b107f5e",
            "placeholder": "​",
            "style": "IPY_MODEL_df10b521e7e34ca5ba04075daa38efa9",
            "value": " 4542/4542 [00:00&lt;00:00, 178795.94it/s]"
          }
        },
        "68f7082476954f8d9167f25dc7126f4b": {
          "model_module": "@jupyter-widgets/base",
          "model_name": "LayoutModel",
          "model_module_version": "1.2.0",
          "state": {
            "_model_module": "@jupyter-widgets/base",
            "_model_module_version": "1.2.0",
            "_model_name": "LayoutModel",
            "_view_count": null,
            "_view_module": "@jupyter-widgets/base",
            "_view_module_version": "1.2.0",
            "_view_name": "LayoutView",
            "align_content": null,
            "align_items": null,
            "align_self": null,
            "border": null,
            "bottom": null,
            "display": null,
            "flex": null,
            "flex_flow": null,
            "grid_area": null,
            "grid_auto_columns": null,
            "grid_auto_flow": null,
            "grid_auto_rows": null,
            "grid_column": null,
            "grid_gap": null,
            "grid_row": null,
            "grid_template_areas": null,
            "grid_template_columns": null,
            "grid_template_rows": null,
            "height": null,
            "justify_content": null,
            "justify_items": null,
            "left": null,
            "margin": null,
            "max_height": null,
            "max_width": null,
            "min_height": null,
            "min_width": null,
            "object_fit": null,
            "object_position": null,
            "order": null,
            "overflow": null,
            "overflow_x": null,
            "overflow_y": null,
            "padding": null,
            "right": null,
            "top": null,
            "visibility": null,
            "width": null
          }
        },
        "1f774f0df66c4b01a9ba0c221f599962": {
          "model_module": "@jupyter-widgets/base",
          "model_name": "LayoutModel",
          "model_module_version": "1.2.0",
          "state": {
            "_model_module": "@jupyter-widgets/base",
            "_model_module_version": "1.2.0",
            "_model_name": "LayoutModel",
            "_view_count": null,
            "_view_module": "@jupyter-widgets/base",
            "_view_module_version": "1.2.0",
            "_view_name": "LayoutView",
            "align_content": null,
            "align_items": null,
            "align_self": null,
            "border": null,
            "bottom": null,
            "display": null,
            "flex": null,
            "flex_flow": null,
            "grid_area": null,
            "grid_auto_columns": null,
            "grid_auto_flow": null,
            "grid_auto_rows": null,
            "grid_column": null,
            "grid_gap": null,
            "grid_row": null,
            "grid_template_areas": null,
            "grid_template_columns": null,
            "grid_template_rows": null,
            "height": null,
            "justify_content": null,
            "justify_items": null,
            "left": null,
            "margin": null,
            "max_height": null,
            "max_width": null,
            "min_height": null,
            "min_width": null,
            "object_fit": null,
            "object_position": null,
            "order": null,
            "overflow": null,
            "overflow_x": null,
            "overflow_y": null,
            "padding": null,
            "right": null,
            "top": null,
            "visibility": null,
            "width": null
          }
        },
        "482226b84c4644149ef645dd18a54e98": {
          "model_module": "@jupyter-widgets/controls",
          "model_name": "DescriptionStyleModel",
          "model_module_version": "1.5.0",
          "state": {
            "_model_module": "@jupyter-widgets/controls",
            "_model_module_version": "1.5.0",
            "_model_name": "DescriptionStyleModel",
            "_view_count": null,
            "_view_module": "@jupyter-widgets/base",
            "_view_module_version": "1.2.0",
            "_view_name": "StyleView",
            "description_width": ""
          }
        },
        "7bd3150757904645a68a9d9ff8a746b9": {
          "model_module": "@jupyter-widgets/base",
          "model_name": "LayoutModel",
          "model_module_version": "1.2.0",
          "state": {
            "_model_module": "@jupyter-widgets/base",
            "_model_module_version": "1.2.0",
            "_model_name": "LayoutModel",
            "_view_count": null,
            "_view_module": "@jupyter-widgets/base",
            "_view_module_version": "1.2.0",
            "_view_name": "LayoutView",
            "align_content": null,
            "align_items": null,
            "align_self": null,
            "border": null,
            "bottom": null,
            "display": null,
            "flex": null,
            "flex_flow": null,
            "grid_area": null,
            "grid_auto_columns": null,
            "grid_auto_flow": null,
            "grid_auto_rows": null,
            "grid_column": null,
            "grid_gap": null,
            "grid_row": null,
            "grid_template_areas": null,
            "grid_template_columns": null,
            "grid_template_rows": null,
            "height": null,
            "justify_content": null,
            "justify_items": null,
            "left": null,
            "margin": null,
            "max_height": null,
            "max_width": null,
            "min_height": null,
            "min_width": null,
            "object_fit": null,
            "object_position": null,
            "order": null,
            "overflow": null,
            "overflow_x": null,
            "overflow_y": null,
            "padding": null,
            "right": null,
            "top": null,
            "visibility": null,
            "width": null
          }
        },
        "af290bc50ddd4131b6a19773a31014fe": {
          "model_module": "@jupyter-widgets/controls",
          "model_name": "ProgressStyleModel",
          "model_module_version": "1.5.0",
          "state": {
            "_model_module": "@jupyter-widgets/controls",
            "_model_module_version": "1.5.0",
            "_model_name": "ProgressStyleModel",
            "_view_count": null,
            "_view_module": "@jupyter-widgets/base",
            "_view_module_version": "1.2.0",
            "_view_name": "StyleView",
            "bar_color": null,
            "description_width": ""
          }
        },
        "9e0fcf996e974dfab851f8ac6b107f5e": {
          "model_module": "@jupyter-widgets/base",
          "model_name": "LayoutModel",
          "model_module_version": "1.2.0",
          "state": {
            "_model_module": "@jupyter-widgets/base",
            "_model_module_version": "1.2.0",
            "_model_name": "LayoutModel",
            "_view_count": null,
            "_view_module": "@jupyter-widgets/base",
            "_view_module_version": "1.2.0",
            "_view_name": "LayoutView",
            "align_content": null,
            "align_items": null,
            "align_self": null,
            "border": null,
            "bottom": null,
            "display": null,
            "flex": null,
            "flex_flow": null,
            "grid_area": null,
            "grid_auto_columns": null,
            "grid_auto_flow": null,
            "grid_auto_rows": null,
            "grid_column": null,
            "grid_gap": null,
            "grid_row": null,
            "grid_template_areas": null,
            "grid_template_columns": null,
            "grid_template_rows": null,
            "height": null,
            "justify_content": null,
            "justify_items": null,
            "left": null,
            "margin": null,
            "max_height": null,
            "max_width": null,
            "min_height": null,
            "min_width": null,
            "object_fit": null,
            "object_position": null,
            "order": null,
            "overflow": null,
            "overflow_x": null,
            "overflow_y": null,
            "padding": null,
            "right": null,
            "top": null,
            "visibility": null,
            "width": null
          }
        },
        "df10b521e7e34ca5ba04075daa38efa9": {
          "model_module": "@jupyter-widgets/controls",
          "model_name": "DescriptionStyleModel",
          "model_module_version": "1.5.0",
          "state": {
            "_model_module": "@jupyter-widgets/controls",
            "_model_module_version": "1.5.0",
            "_model_name": "DescriptionStyleModel",
            "_view_count": null,
            "_view_module": "@jupyter-widgets/base",
            "_view_module_version": "1.2.0",
            "_view_name": "StyleView",
            "description_width": ""
          }
        }
      }
    }
  },
  "cells": [
    {
      "cell_type": "markdown",
      "metadata": {
        "id": "HxuatuqdHLUK"
      },
      "source": [
        "# MNIST RandomNumber Addition using Pytorch\n",
        "Write a neural network that can:\n",
        "- take 2 inputs:\n",
        "  - an image from MNIST dataset, and\n",
        "  - a random number between 0 and 9\n",
        "- and gives two outputs:\n",
        "  - the \"number\" that was represented by the MNIST image, and\n",
        "  - the \"sum\" of this number with the random number that was generated and sent as the input to the network "
      ]
    },
    {
      "cell_type": "markdown",
      "metadata": {
        "id": "yp2Yu_c0HWnD"
      },
      "source": [
        "## Import Libraries\n",
        "\n",
        "Let's first import all the necessary libraries"
      ]
    },
    {
      "cell_type": "code",
      "metadata": {
        "id": "cXrOGmLUG6hV"
      },
      "source": [
        "import torch\n",
        "import torch.nn as nn\n",
        "import torch.nn.functional as F\n",
        "import torch.optim as optim\n",
        "import torchvision\n",
        "import torchvision.transforms as transforms\n",
        "from torch.utils.data import Dataset, TensorDataset\n",
        "from torch.utils.data import DataLoader\n",
        "\n",
        "import matplotlib.pyplot as plt\n",
        "import numpy as np\n",
        "\n",
        "import random"
      ],
      "execution_count": null,
      "outputs": []
    },
    {
      "cell_type": "code",
      "metadata": {
        "id": "cOIxtDXQHgyK"
      },
      "source": [
        "# check if cuda is available\n",
        "use_cuda = torch.cuda.is_available()\n",
        "device = torch.device(\"cuda\" if use_cuda else \"cpu\")"
      ],
      "execution_count": null,
      "outputs": []
    },
    {
      "cell_type": "markdown",
      "metadata": {
        "id": "HFpiuq-FHwUq"
      },
      "source": [
        "## Load and Prepare Dataset\n",
        "\n",
        "MNIST contains 70,000 images of handwritten digits: 60,000 for training and 10,000 for testing. The images are grayscale, 28x28 pixels\n",
        "\n",
        "We load the PIL images using torchvision.datasets.MNIST, while loading the image we transform the data to tensor and normalize the images with mean and std deviation of MNIST images."
      ]
    },
    {
      "cell_type": "code",
      "metadata": {
        "id": "hECwKsBZH2_Z",
        "outputId": "2709e51c-c72d-4669-a15a-4287338a67e6",
        "colab": {
          "base_uri": "https://localhost:8080/",
          "height": 443,
          "referenced_widgets": [
            "6d623245e2c741c39f2df7ca9a2f962d",
            "9f51b93f765e47d1bb4b0bf09f90f5ec",
            "2a3db1675f9b4037b3b92bb3ad9675e1",
            "0ca45fd53dbc45e68ed6dd3a9b72111b",
            "414b1f0a3c4b4026819127d74068d72a",
            "5d67d3b17e484ae2a5d167e09c76a809",
            "88cdc839ae844844a884d85965895a5e",
            "3963f700a01f401195140ae853c4e539",
            "96d1daf8994448608c2b0f980d6c8cb7",
            "3fa8fe37785142ae80cb8998437d6a66",
            "0cc658deb8f443d1b684d59d5d30e54d",
            "7e6229989590469499c3bcdae4bd2043",
            "feb42492246b416181b081fc7287ec6b",
            "3ae309bd96a149d5b2b3ef8f5ebb4b31",
            "0d791ac4470244c9b1451d0cb865276a",
            "b38ba20d6bee4aee8c86d6dd583816fc",
            "28f741832ba9438fa88f9bf0077ea9b2",
            "f079b219d21c462a943f191a25be8eef",
            "51aa55695cd84b5eabbd1296c5198e3a",
            "c18a65ea35e14f3c8f466209fdbd117f",
            "6fa4956badb448369db83852ad3ba750",
            "00b9c8baee9a473aad29d464cf4d1aa8",
            "0e1801c71849429a9f1afb60023aaf02",
            "90a845bb0bc8415b871682a7228bdaf0",
            "7c6c0fd6dd6d42a3bd5fd90f15ee52c5",
            "2b291461a2ac4e5daa9eb942ff171d79",
            "89202ec1659d40df8d1bf778d419aae9",
            "e9db6d9fc7784f9d92229d13af3b1625",
            "ff717afc98644aaaa7fd4bd06ba6b1f8",
            "5e8e5ed172aa4d358a9dfd64cdedb01e",
            "c1b14e29958e41c1af12801191dc0adc",
            "f508d39ff4af4cedbdcdb005a641a846",
            "19889523fbcc40d6849cd5cb26e0998d",
            "18d0a205b9584f978fa0c86f9ce30599",
            "e900fe0b72414ca19e8db5bdae7f14dd",
            "2d1498d6d9334a32a13b21c1aa734648",
            "59ed7af6a7f94489aa8c2fa54e397c33",
            "68f7082476954f8d9167f25dc7126f4b",
            "1f774f0df66c4b01a9ba0c221f599962",
            "482226b84c4644149ef645dd18a54e98",
            "7bd3150757904645a68a9d9ff8a746b9",
            "af290bc50ddd4131b6a19773a31014fe",
            "9e0fcf996e974dfab851f8ac6b107f5e",
            "df10b521e7e34ca5ba04075daa38efa9"
          ]
        }
      },
      "source": [
        "# We transform them to tensors\n",
        "# Train Phase transformations\n",
        "train_transforms = transforms.Compose([\n",
        "                                       transforms.ToTensor(),\n",
        "                                       transforms.Normalize((0.1307,), (0.3081,)) # The mean and std have to be sequences (e.g., tuples), therefore you should add a comma after the values. \n",
        "                                       ])\n",
        "\n",
        "# Test Phase transformations\n",
        "test_transforms = transforms.Compose([\n",
        "                                       transforms.ToTensor(),\n",
        "                                       transforms.Normalize((0.1307,), (0.3081,))\n",
        "                                       ])\n",
        "\n",
        "# torchvision.datasets.MNIST outputs a set of PIL images\n",
        "# Load and transform data\n",
        "MNIST_train = torchvision.datasets.MNIST('/tmp', train=True, download=True, transform=train_transforms)\n",
        "MNIST_trainset, MNIST_valset = torch.utils.data.random_split(MNIST_train, [55000, 5000])\n",
        "MNIST_testset = torchvision.datasets.MNIST('/tmp', train=False, download=True, transform=test_transforms)"
      ],
      "execution_count": null,
      "outputs": [
        {
          "output_type": "stream",
          "name": "stdout",
          "text": [
            "Downloading http://yann.lecun.com/exdb/mnist/train-images-idx3-ubyte.gz\n",
            "Downloading http://yann.lecun.com/exdb/mnist/train-images-idx3-ubyte.gz to /tmp/MNIST/raw/train-images-idx3-ubyte.gz\n"
          ]
        },
        {
          "output_type": "display_data",
          "data": {
            "text/plain": [
              "  0%|          | 0/9912422 [00:00<?, ?it/s]"
            ],
            "application/vnd.jupyter.widget-view+json": {
              "version_major": 2,
              "version_minor": 0,
              "model_id": "6d623245e2c741c39f2df7ca9a2f962d"
            }
          },
          "metadata": {}
        },
        {
          "output_type": "stream",
          "name": "stdout",
          "text": [
            "Extracting /tmp/MNIST/raw/train-images-idx3-ubyte.gz to /tmp/MNIST/raw\n",
            "\n",
            "Downloading http://yann.lecun.com/exdb/mnist/train-labels-idx1-ubyte.gz\n",
            "Downloading http://yann.lecun.com/exdb/mnist/train-labels-idx1-ubyte.gz to /tmp/MNIST/raw/train-labels-idx1-ubyte.gz\n"
          ]
        },
        {
          "output_type": "display_data",
          "data": {
            "text/plain": [
              "  0%|          | 0/28881 [00:00<?, ?it/s]"
            ],
            "application/vnd.jupyter.widget-view+json": {
              "version_major": 2,
              "version_minor": 0,
              "model_id": "7e6229989590469499c3bcdae4bd2043"
            }
          },
          "metadata": {}
        },
        {
          "output_type": "stream",
          "name": "stdout",
          "text": [
            "Extracting /tmp/MNIST/raw/train-labels-idx1-ubyte.gz to /tmp/MNIST/raw\n",
            "\n",
            "Downloading http://yann.lecun.com/exdb/mnist/t10k-images-idx3-ubyte.gz\n",
            "Downloading http://yann.lecun.com/exdb/mnist/t10k-images-idx3-ubyte.gz to /tmp/MNIST/raw/t10k-images-idx3-ubyte.gz\n"
          ]
        },
        {
          "output_type": "display_data",
          "data": {
            "text/plain": [
              "  0%|          | 0/1648877 [00:00<?, ?it/s]"
            ],
            "application/vnd.jupyter.widget-view+json": {
              "version_major": 2,
              "version_minor": 0,
              "model_id": "0e1801c71849429a9f1afb60023aaf02"
            }
          },
          "metadata": {}
        },
        {
          "output_type": "stream",
          "name": "stdout",
          "text": [
            "Extracting /tmp/MNIST/raw/t10k-images-idx3-ubyte.gz to /tmp/MNIST/raw\n",
            "\n",
            "Downloading http://yann.lecun.com/exdb/mnist/t10k-labels-idx1-ubyte.gz\n",
            "Downloading http://yann.lecun.com/exdb/mnist/t10k-labels-idx1-ubyte.gz to /tmp/MNIST/raw/t10k-labels-idx1-ubyte.gz\n"
          ]
        },
        {
          "output_type": "display_data",
          "data": {
            "text/plain": [
              "  0%|          | 0/4542 [00:00<?, ?it/s]"
            ],
            "application/vnd.jupyter.widget-view+json": {
              "version_major": 2,
              "version_minor": 0,
              "model_id": "18d0a205b9584f978fa0c86f9ce30599"
            }
          },
          "metadata": {}
        },
        {
          "output_type": "stream",
          "name": "stdout",
          "text": [
            "Extracting /tmp/MNIST/raw/t10k-labels-idx1-ubyte.gz to /tmp/MNIST/raw\n",
            "\n"
          ]
        }
      ]
    },
    {
      "cell_type": "markdown",
      "metadata": {
        "id": "eEjiYliSJvIV"
      },
      "source": [
        "### Creation of Random MNIST dataset\n",
        "\n"
      ]
    },
    {
      "cell_type": "code",
      "metadata": {
        "id": "T5xU_qOAHmQs"
      },
      "source": [
        "class RandomMNISTDataset(Dataset):\n",
        "  def __init__(self, MNISTDataset):\n",
        "    self.MNISTDataset = MNISTDataset\n",
        "\n",
        "  def __getitem__(self, index):\n",
        "    image = self.MNISTDataset[index][0]\n",
        "    label = self.MNISTDataset[index][1]\n",
        "    randomNo = random.randint(0,9)\n",
        "\n",
        "    #Create one hot encoding for random number \n",
        "    one_hotrandomNo = torch.nn.functional.one_hot(torch.arange(0, 10))\n",
        "\n",
        "    #add actual label and random number\n",
        "    sum = label + randomNo\n",
        "    return image, label, one_hotrandomNo[randomNo], sum\n",
        "\n",
        "  def __len__(self):\n",
        "    return len(self.MNISTDataset)"
      ],
      "execution_count": null,
      "outputs": []
    },
    {
      "cell_type": "code",
      "metadata": {
        "id": "gJFs_KVGKPKl"
      },
      "source": [
        "train_dataset = RandomMNISTDataset(MNIST_trainset)\n",
        "val_dataset = RandomMNISTDataset(MNIST_valset)\n",
        "test_dataset = RandomMNISTDataset(MNIST_testset)"
      ],
      "execution_count": null,
      "outputs": []
    },
    {
      "cell_type": "code",
      "metadata": {
        "colab": {
          "base_uri": "https://localhost:8080/"
        },
        "id": "83D4wE7AKYWb",
        "outputId": "f4c8d553-377c-4651-aa10-66d672975167"
      },
      "source": [
        "print(f'The number of images in train dataset - {len(train_dataset)}')\n",
        "print(f'The number of images in val dataset - {len(val_dataset)}')\n",
        "\n",
        "print(f'The number of images in test dataset - {len(test_dataset)}')"
      ],
      "execution_count": null,
      "outputs": [
        {
          "output_type": "stream",
          "name": "stdout",
          "text": [
            "The number of images in train dataset - 55000\n",
            "The number of images in val dataset - 5000\n",
            "The number of images in test dataset - 10000\n"
          ]
        }
      ]
    },
    {
      "cell_type": "code",
      "metadata": {
        "id": "FbbXNrIiK82R"
      },
      "source": [
        "train_loader = DataLoader(train_dataset,batch_size=128,shuffle=True)\n",
        "val_loader = DataLoader(val_dataset,batch_size=128)\n",
        "test_loader = DataLoader(test_dataset,batch_size=128)"
      ],
      "execution_count": null,
      "outputs": []
    },
    {
      "cell_type": "markdown",
      "metadata": {
        "id": "C8tWbWhSLL7R"
      },
      "source": [
        "## View Sample batch\n",
        "\n",
        "\n"
      ]
    },
    {
      "cell_type": "code",
      "metadata": {
        "colab": {
          "base_uri": "https://localhost:8080/"
        },
        "id": "2EYRp3arLCIU",
        "outputId": "c21976e0-fe69-440f-b80c-64ab7d4a658c"
      },
      "source": [
        "dataiter = iter(train_loader)\n",
        "images, labels, randomNumbers, sums = next(dataiter)\n",
        "\n",
        "print('Images: ', images.shape)\n",
        "print('Labels: ', labels.shape)\n",
        "print('Random Numbers: ', randomNumbers.shape)\n",
        "print('Sum: ', sums.shape)\n",
        "\n",
        "print('\\nLabels: ', labels)\n",
        "print('Random Numbers: ', randomNumbers)\n",
        "print('Sum: ', sums)"
      ],
      "execution_count": null,
      "outputs": [
        {
          "output_type": "stream",
          "name": "stdout",
          "text": [
            "Images:  torch.Size([128, 1, 28, 28])\n",
            "Labels:  torch.Size([128])\n",
            "Random Numbers:  torch.Size([128, 10])\n",
            "Sum:  torch.Size([128])\n",
            "\n",
            "Labels:  tensor([5, 8, 0, 9, 5, 4, 4, 8, 1, 2, 9, 8, 2, 4, 5, 0, 1, 6, 3, 8, 6, 5, 4, 9,\n",
            "        3, 4, 0, 7, 8, 1, 1, 2, 9, 9, 4, 1, 8, 8, 4, 9, 8, 1, 9, 2, 6, 2, 9, 4,\n",
            "        1, 5, 7, 6, 0, 8, 0, 2, 4, 2, 8, 0, 5, 2, 5, 9, 0, 0, 5, 2, 5, 1, 4, 1,\n",
            "        4, 2, 2, 8, 1, 4, 8, 8, 3, 1, 8, 0, 6, 7, 2, 4, 7, 9, 8, 0, 5, 0, 9, 5,\n",
            "        1, 6, 9, 7, 6, 2, 8, 8, 5, 3, 3, 8, 8, 6, 9, 1, 4, 8, 4, 8, 5, 5, 5, 5,\n",
            "        7, 3, 7, 0, 0, 2, 7, 9])\n",
            "Random Numbers:  tensor([[1, 0, 0,  ..., 0, 0, 0],\n",
            "        [0, 0, 0,  ..., 0, 0, 0],\n",
            "        [0, 0, 1,  ..., 0, 0, 0],\n",
            "        ...,\n",
            "        [0, 0, 0,  ..., 0, 0, 1],\n",
            "        [0, 0, 0,  ..., 0, 0, 0],\n",
            "        [0, 1, 0,  ..., 0, 0, 0]])\n",
            "Sum:  tensor([ 5, 13,  2, 11,  6, 13, 10, 12, 10,  4, 18, 11,  5,  4, 13,  3,  2, 11,\n",
            "        10,  9,  9, 12,  4, 18,  5, 13,  8,  8, 10,  3,  4,  8,  9, 14,  4,  5,\n",
            "         9,  9, 10, 14, 10,  7, 13,  5, 12,  9, 10,  4, 10, 14,  9, 15,  9, 13,\n",
            "         8,  2,  5,  4,  8,  6, 10, 11,  6, 14,  0,  4, 14,  4,  6,  1, 11,  3,\n",
            "         6,  3,  8, 13,  7,  5,  9, 13,  5,  9,  9,  0, 14,  8,  7,  8,  8, 11,\n",
            "        16,  2, 14,  6, 12,  5,  7,  8, 18,  8, 10,  2,  8, 16,  5,  3,  3,  9,\n",
            "         8, 13, 18,  4, 10,  9,  7, 13,  9,  8,  6,  5, 10,  4, 16,  6,  6, 11,\n",
            "        12, 10])\n"
          ]
        }
      ]
    },
    {
      "cell_type": "markdown",
      "metadata": {
        "id": "QOcaKvrtLw4Y"
      },
      "source": [
        "## Defining the Model"
      ]
    },
    {
      "cell_type": "code",
      "source": [
        "class Net(nn.Module):\n",
        "    def __init__(self):\n",
        "        super(Net, self).__init__()\n",
        "        \n",
        "        self.conv1 = nn.Conv2d(1, 8, 3, bias=False)  # Input - 28, Output - 26, RF  - 3\n",
        "        self.bn1   = nn.BatchNorm2d(8)\n",
        "        self.conv2 = nn.Conv2d(8, 16, 3, bias=False) # Input - 26, Output - 24, RF  - 5\n",
        "        self.bn2   = nn.BatchNorm2d(16)\n",
        "        self.pool1 = nn.MaxPool2d(2, 2)               # Input - 24, Output - 12, RF  - 10\n",
        "        self.conv3 = nn.Conv2d(16, 16, 3, bias=False) # Input - 12, Output - 10, RF  - 12\n",
        "        self.bn3   = nn.BatchNorm2d(16)\n",
        "        self.conv4 = nn.Conv2d(16, 32, 3, bias=False) # Input - 10, Output - 8, RF  - 14\n",
        "        self.bn4   = nn.BatchNorm2d(32)\n",
        "        self.pool2 = nn.MaxPool2d(2, 2)               # Input - 8, Output - 4, RF  - 28\n",
        "        self.conv5 = nn.Conv2d(32, 10, 4, bias=False) # Input - 4, Output - 2, RF  - 30        \n",
        "        self.dropout = nn.Dropout2d(0.1)\n",
        "\n",
        "        \n",
        "        self.fc1 = nn.Linear(10+10, 128)                  #Concatenate two inputs \n",
        "        # self.fc2 = nn.Linear(128, 30)\n",
        "        self.fc2 = nn.Linear(128, 19)\n",
        "\n",
        "    def forward(self, image, randomNumber):\n",
        "        x = self.pool1(self.dropout(F.relu(self.bn2(self.conv2(self.dropout(F.relu(self.bn1(self.conv1(image)))))))))\n",
        "        x = self.pool2(self.dropout(F.relu(self.bn4(self.conv4(self.dropout(F.relu(self.bn3(self.conv3(x)))))))))\n",
        "        x = self.conv5(x)\n",
        "        x = x.view(-1, 10)\n",
        "\n",
        "        #concatenate second input to the output from above convolution\n",
        "        x1 = torch.cat((x, randomNumber), dim=1)\n",
        "        \n",
        "        # Further train the network on Dense Layer\n",
        "        x1 = F.relu(self.fc1(x1))\n",
        "        #x1 = F.relu(self.fc2(x1))    \n",
        "        x1 = self.fc2(x1)  \n",
        "\n",
        "        # Inside the network we usually use relu() as our non-linear activation function, but for the output layer, we use Softmax function for predicting category with maximum probability. \n",
        "        #The softmax function returns a positive probability for each of the prediction classes, and the values sum to 1.\n",
        "\n",
        "        #Model returns two outputs:\n",
        "          #Output1 : \"number\" represented by the MNIST image \n",
        "          #Output2 : \"sum\" of this number with the random number that was generated\n",
        "\n",
        "        return F.log_softmax(x, dim = 1), F.log_softmax(x1, dim = 1)\n",
        "\n",
        "\n",
        "        #return F.log_softmax(x)"
      ],
      "metadata": {
        "id": "VyhQYdKfP4yF"
      },
      "execution_count": null,
      "outputs": []
    },
    {
      "cell_type": "markdown",
      "metadata": {
        "id": "9sOWG_9vM-0E"
      },
      "source": [
        "## The Model"
      ]
    },
    {
      "cell_type": "code",
      "metadata": {
        "colab": {
          "base_uri": "https://localhost:8080/"
        },
        "id": "Vrlm8pVtL-M5",
        "outputId": "fcb22895-aeea-4fe1-be3f-56c72877287a"
      },
      "source": [
        "# move the model to the specified device\n",
        "model = Net().to(device)\n",
        "model.eval()"
      ],
      "execution_count": null,
      "outputs": [
        {
          "output_type": "execute_result",
          "data": {
            "text/plain": [
              "Net(\n",
              "  (conv1): Conv2d(1, 8, kernel_size=(3, 3), stride=(1, 1), bias=False)\n",
              "  (bn1): BatchNorm2d(8, eps=1e-05, momentum=0.1, affine=True, track_running_stats=True)\n",
              "  (conv2): Conv2d(8, 16, kernel_size=(3, 3), stride=(1, 1), bias=False)\n",
              "  (bn2): BatchNorm2d(16, eps=1e-05, momentum=0.1, affine=True, track_running_stats=True)\n",
              "  (pool1): MaxPool2d(kernel_size=2, stride=2, padding=0, dilation=1, ceil_mode=False)\n",
              "  (conv3): Conv2d(16, 16, kernel_size=(3, 3), stride=(1, 1), bias=False)\n",
              "  (bn3): BatchNorm2d(16, eps=1e-05, momentum=0.1, affine=True, track_running_stats=True)\n",
              "  (conv4): Conv2d(16, 32, kernel_size=(3, 3), stride=(1, 1), bias=False)\n",
              "  (bn4): BatchNorm2d(32, eps=1e-05, momentum=0.1, affine=True, track_running_stats=True)\n",
              "  (pool2): MaxPool2d(kernel_size=2, stride=2, padding=0, dilation=1, ceil_mode=False)\n",
              "  (conv5): Conv2d(32, 10, kernel_size=(4, 4), stride=(1, 1), bias=False)\n",
              "  (dropout): Dropout2d(p=0.1, inplace=False)\n",
              "  (fc1): Linear(in_features=20, out_features=128, bias=True)\n",
              "  (fc2): Linear(in_features=128, out_features=19, bias=True)\n",
              ")"
            ]
          },
          "metadata": {},
          "execution_count": 13
        }
      ]
    },
    {
      "cell_type": "markdown",
      "metadata": {
        "id": "aeVmw5xkM6o9"
      },
      "source": [
        "## Model parameters"
      ]
    },
    {
      "cell_type": "code",
      "metadata": {
        "colab": {
          "base_uri": "https://localhost:8080/"
        },
        "id": "HXkA6qn3M1Ra",
        "outputId": "06f962ff-5868-4441-a97b-5ad28e3eaac6"
      },
      "source": [
        "def count_parameters(model):\n",
        "    return sum(p.numel() for p in model.parameters() if p.requires_grad)\n",
        "\n",
        "print(f'The model has {count_parameters(model):,} trainable parameters')"
      ],
      "execution_count": null,
      "outputs": [
        {
          "output_type": "stream",
          "name": "stdout",
          "text": [
            "The model has 18,539 trainable parameters\n"
          ]
        }
      ]
    },
    {
      "cell_type": "markdown",
      "metadata": {
        "id": "K9g1TyZcNMQt"
      },
      "source": [
        "## Training Loop"
      ]
    },
    {
      "cell_type": "code",
      "metadata": {
        "id": "U6-GBrOYNIT_"
      },
      "source": [
        "def train(model, device, train_loader, optimizer, epoch):\n",
        "    # set the model in training model\n",
        "    model.train()\n",
        "\n",
        "    epoch_loss = 0\n",
        "\n",
        "    # run for all the data in train_loader\n",
        "    for batch_idx, (data, target, random_number, sum) in enumerate(train_loader):\n",
        "\n",
        "        # fetch the data and the target values\n",
        "        target = target.type(torch.LongTensor)\n",
        "        sum = sum.type(torch.LongTensor)\n",
        "\n",
        "        # move the data to device\n",
        "        data, target, sum = data.to(device), target.to(device), sum.to(device)\n",
        "\n",
        "        # zero out the gradients\n",
        "        optimizer.zero_grad()\n",
        "\n",
        "        # forward pass the model with the data\n",
        "        output, sum_output = model(data,random_number.to(device))\n",
        "\n",
        "        # compute the loss occured\n",
        "        mnist_loss = F.nll_loss(output, target)\n",
        "        addition_loss = F.nll_loss(sum_output, sum)\n",
        "        loss= (mnist_loss + addition_loss)/2\n",
        "\n",
        "        epoch_loss += loss.item()\n",
        "\n",
        "        # compute the backward gradients\n",
        "        loss.backward()\n",
        "\n",
        "        # update the optimizer params\n",
        "        optimizer.step()\n",
        "    print('Train set: Average loss: {:.4f}'.format(loss.item()))\n",
        "\n",
        "    train_loss = epoch_loss / len(train_loader)\n",
        "    return train_loss\n",
        "\n"
      ],
      "execution_count": null,
      "outputs": []
    },
    {
      "cell_type": "markdown",
      "metadata": {
        "id": "ijI_8dpTNmUv"
      },
      "source": [
        "## Testing Loop"
      ]
    },
    {
      "cell_type": "code",
      "metadata": {
        "id": "4Ay4AVrvNPJl"
      },
      "source": [
        "def test(model, device, test_loader,test_type='Val'):\n",
        "    # set the model in evaluation model\n",
        "    model.eval()\n",
        "\n",
        "    # set the loss to zero\n",
        "    test_loss = 0\n",
        "    \n",
        "    # the number of correct classifications\n",
        "    correct_mnist = 0\n",
        "    correct_addition = 0\n",
        "\n",
        "    # turn off gradients during the testing\n",
        "    with torch.no_grad():\n",
        "        for (data, target, random_number, sum) in test_loader:\n",
        "\n",
        "            # move the data to device\n",
        "            target = target.type(torch.LongTensor)\n",
        "            sum = sum.type(torch.LongTensor)\n",
        "            data, target,sum = data.to(device), target.to(device), sum.to(device)\n",
        "\n",
        "            # forward pass the model and get the output\n",
        "            output, sum_output = model(data,random_number.to(device))\n",
        "\n",
        "            # accumulate the loss from both the network outputs\n",
        "            test_loss += (F.nll_loss(output, target, reduction='sum').item() + F.nll_loss(sum_output, sum, reduction='sum').item())/2\n",
        "\n",
        "            # get the index of max log-probability\n",
        "            mnist_pred = output.argmax(dim=1, keepdim=True)\n",
        "            addition_pred = sum_output.argmax(dim=1, keepdim=True)\n",
        "\n",
        "            # increment the correct prediction count if pred is correct\n",
        "            correct_mnist += mnist_pred.eq(target.view_as(mnist_pred)).sum().item()\n",
        "            correct_addition += addition_pred.eq(sum.view_as(addition_pred)).sum().item()\n",
        "\n",
        "\n",
        "    # test loss divided by the total number of items in test dataset\n",
        "    test_loss /= len(test_loader.dataset)\n",
        "    print(f'{test_type} set: Average loss: {test_loss:.3f}, MNist Accuracy:{100. * correct_mnist/len(test_loader.dataset)}, Sum_Accuracy:{100. * correct_addition/len(test_loader.dataset)}')\n",
        "\n",
        "    return test_loss\n"
      ],
      "execution_count": null,
      "outputs": []
    },
    {
      "cell_type": "markdown",
      "metadata": {
        "id": "J926BHeuPkaE"
      },
      "source": [
        "## Let's write train and test the model"
      ]
    },
    {
      "cell_type": "code",
      "metadata": {
        "colab": {
          "base_uri": "https://localhost:8080/"
        },
        "id": "5CCsxnOKOA8m",
        "outputId": "75f7161c-30cb-4960-eab6-2b28ee0b4ebe"
      },
      "source": [
        "# move the model to the specified device\n",
        "model = Net().to(device)\n",
        "\n",
        "# use Stochastic Gradient Descent as the optimizer\n",
        "optimizer = optim.SGD(model.parameters(), lr=0.01, momentum=0.7)\n",
        "\n",
        "# set the number of epochs to train for\n",
        "num_epoch = 25\n",
        "\n",
        "train_loss_values = []\n",
        "valid_loss_values = []\n",
        "\n",
        "# run it for epoch number of times\n",
        "for epoch in range(1, num_epoch+1):\n",
        "    print('\\nEpoch {} : '.format(epoch))\n",
        "    # train the model\n",
        "    train_loss = train(model, device, train_loader, optimizer, epoch)\n",
        "    valid_loss = test(model, device, val_loader)\n",
        "    # test the model\n",
        "\n",
        "    train_loss_values.append(train_loss)\n",
        "    valid_loss_values.append(valid_loss)"
      ],
      "execution_count": null,
      "outputs": [
        {
          "output_type": "stream",
          "name": "stdout",
          "text": [
            "\n",
            "Epoch 1 : \n",
            "Train set: Average loss: 1.3457\n",
            "Val set: Average loss: 1.309, MNist Accuracy:95.7, Sum_Accuracy:13.82\n",
            "\n",
            "Epoch 2 : \n",
            "Train set: Average loss: 1.2343\n",
            "Val set: Average loss: 1.220, MNist Accuracy:97.08, Sum_Accuracy:18.54\n",
            "\n",
            "Epoch 3 : \n",
            "Train set: Average loss: 1.2543\n",
            "Val set: Average loss: 1.173, MNist Accuracy:97.5, Sum_Accuracy:21.54\n",
            "\n",
            "Epoch 4 : \n",
            "Train set: Average loss: 1.1098\n",
            "Val set: Average loss: 1.125, MNist Accuracy:97.94, Sum_Accuracy:29.7\n",
            "\n",
            "Epoch 5 : \n",
            "Train set: Average loss: 1.0655\n",
            "Val set: Average loss: 1.071, MNist Accuracy:98.22, Sum_Accuracy:40.3\n",
            "\n",
            "Epoch 6 : \n",
            "Train set: Average loss: 1.0745\n",
            "Val set: Average loss: 1.013, MNist Accuracy:98.46, Sum_Accuracy:49.68\n",
            "\n",
            "Epoch 7 : \n",
            "Train set: Average loss: 0.9748\n",
            "Val set: Average loss: 0.944, MNist Accuracy:98.72, Sum_Accuracy:53.14\n",
            "\n",
            "Epoch 8 : \n",
            "Train set: Average loss: 0.8799\n",
            "Val set: Average loss: 0.866, MNist Accuracy:98.62, Sum_Accuracy:64.08\n",
            "\n",
            "Epoch 9 : \n",
            "Train set: Average loss: 0.8067\n",
            "Val set: Average loss: 0.792, MNist Accuracy:98.74, Sum_Accuracy:71.84\n",
            "\n",
            "Epoch 10 : \n",
            "Train set: Average loss: 0.7077\n",
            "Val set: Average loss: 0.705, MNist Accuracy:98.82, Sum_Accuracy:79.88\n",
            "\n",
            "Epoch 11 : \n",
            "Train set: Average loss: 0.6733\n",
            "Val set: Average loss: 0.628, MNist Accuracy:98.78, Sum_Accuracy:83.54\n",
            "\n",
            "Epoch 12 : \n",
            "Train set: Average loss: 0.5928\n",
            "Val set: Average loss: 0.547, MNist Accuracy:98.84, Sum_Accuracy:88.86\n",
            "\n",
            "Epoch 13 : \n",
            "Train set: Average loss: 0.5122\n",
            "Val set: Average loss: 0.475, MNist Accuracy:98.86, Sum_Accuracy:92.52\n",
            "\n",
            "Epoch 14 : \n",
            "Train set: Average loss: 0.4575\n",
            "Val set: Average loss: 0.404, MNist Accuracy:98.8, Sum_Accuracy:95.76\n",
            "\n",
            "Epoch 15 : \n",
            "Train set: Average loss: 0.3691\n",
            "Val set: Average loss: 0.344, MNist Accuracy:98.92, Sum_Accuracy:96.88\n",
            "\n",
            "Epoch 16 : \n",
            "Train set: Average loss: 0.2877\n",
            "Val set: Average loss: 0.296, MNist Accuracy:98.92, Sum_Accuracy:97.14\n",
            "\n",
            "Epoch 17 : \n",
            "Train set: Average loss: 0.2791\n",
            "Val set: Average loss: 0.251, MNist Accuracy:99.02, Sum_Accuracy:97.56\n",
            "\n",
            "Epoch 18 : \n",
            "Train set: Average loss: 0.2175\n",
            "Val set: Average loss: 0.216, MNist Accuracy:99.08, Sum_Accuracy:97.84\n",
            "\n",
            "Epoch 19 : \n",
            "Train set: Average loss: 0.1887\n",
            "Val set: Average loss: 0.187, MNist Accuracy:99.0, Sum_Accuracy:98.26\n",
            "\n",
            "Epoch 20 : \n",
            "Train set: Average loss: 0.1829\n",
            "Val set: Average loss: 0.165, MNist Accuracy:98.92, Sum_Accuracy:98.26\n",
            "\n",
            "Epoch 21 : \n",
            "Train set: Average loss: 0.1572\n",
            "Val set: Average loss: 0.148, MNist Accuracy:99.08, Sum_Accuracy:98.3\n",
            "\n",
            "Epoch 22 : \n",
            "Train set: Average loss: 0.1076\n",
            "Val set: Average loss: 0.131, MNist Accuracy:99.02, Sum_Accuracy:98.36\n",
            "\n",
            "Epoch 23 : \n",
            "Train set: Average loss: 0.1987\n",
            "Val set: Average loss: 0.119, MNist Accuracy:99.2, Sum_Accuracy:98.6\n",
            "\n",
            "Epoch 24 : \n",
            "Train set: Average loss: 0.1278\n",
            "Val set: Average loss: 0.108, MNist Accuracy:99.34, Sum_Accuracy:98.68\n",
            "\n",
            "Epoch 25 : \n",
            "Train set: Average loss: 0.1189\n",
            "Val set: Average loss: 0.099, MNist Accuracy:99.2, Sum_Accuracy:98.78\n"
          ]
        }
      ]
    },
    {
      "cell_type": "markdown",
      "metadata": {
        "id": "YkSWImNnOXCm"
      },
      "source": [
        "## Ploting the loss "
      ]
    },
    {
      "cell_type": "code",
      "metadata": {
        "colab": {
          "base_uri": "https://localhost:8080/",
          "height": 384
        },
        "id": "lsTdtLh2OH4f",
        "outputId": "16a97d8e-2a08-4461-c247-6c82e359e229"
      },
      "source": [
        "import matplotlib.pyplot as plt\n",
        "#matplotlib inline\n",
        "\n",
        "import seaborn as sns\n",
        "\n",
        "# Use plot styling from seaborn.\n",
        "sns.set(style='darkgrid')\n",
        "\n",
        "# Increase the plot size and font size.\n",
        "sns.set(font_scale=1.5)\n",
        "plt.rcParams[\"figure.figsize\"] = (12,6)\n",
        "\n",
        "# Plot the learning curve.\n",
        "plt.plot(np.array(train_loss_values), 'b-o', label=\"Training\")\n",
        "plt.plot(np.array(valid_loss_values), 'g-o', label=\"Validation\")\n",
        "\n",
        "\n",
        "# Label the plot.\n",
        "plt.title(\"Training & Validation Loss\")\n",
        "plt.xlabel(\"Epoch\")\n",
        "plt.ylabel(\"Loss\")\n",
        "plt.legend()\n",
        "plt.show()"
      ],
      "execution_count": null,
      "outputs": [
        {
          "output_type": "display_data",
          "data": {
            "text/plain": [
              "<Figure size 864x432 with 1 Axes>"
            ],
            "image/png": "[encoded data removed]"
          },
          "metadata": {}
        }
      ]
    },
    {
      "cell_type": "markdown",
      "metadata": {
        "id": "UZzPy83sYdaJ"
      },
      "source": [
        "## Test Loss"
      ]
    },
    {
      "cell_type": "code",
      "metadata": {
        "colab": {
          "base_uri": "https://localhost:8080/"
        },
        "id": "Adb9YvPVSPGa",
        "outputId": "c8214727-22f3-407a-8a13-f73594cc217d"
      },
      "source": [
        "test_loss = test(model, device, test_loader,'Test')"
      ],
      "execution_count": null,
      "outputs": [
        {
          "output_type": "stream",
          "name": "stdout",
          "text": [
            "Test set: Average loss: 0.096, MNist Accuracy:99.19, Sum_Accuracy:98.6\n"
          ]
        }
      ]
    },
    {
      "cell_type": "markdown",
      "metadata": {
        "id": "mDe6qTF8Of3r"
      },
      "source": [
        "## Inference"
      ]
    },
    {
      "cell_type": "code",
      "metadata": {
        "id": "w_eX2N0_Ogha"
      },
      "source": [
        "def prediction(image,rnum):\n",
        "\n",
        "    rnum_ohe = torch.zeros(11).long()\n",
        "    rnum_ohe[rnum] = 1\n",
        "    rnum_ohe = rnum_ohe[:-1]\n",
        "\n",
        "    #tensored_image = image.unsqueeze(dim=1).to(device)\n",
        "    output_1,output_2 = model(image.unsqueeze(dim=1).to(device),rnum_ohe.reshape(-1,10).to(device))\n",
        "\n",
        "    mnist_pred = output_1.argmax(dim=1, keepdim=True)\n",
        "    sum_pred = output_2.argmax(dim=1, keepdim=True)\n",
        "\n",
        "    #print(f\"Random Number Generated is {rnum}\")\n",
        "    fig = plt.figure(figsize=(5, 5))\n",
        "    ax = fig.add_subplot(3, 3, 1)\n",
        "    ax.axis('off')\n",
        "    ax.imshow(image.cpu().numpy().squeeze())\n",
        "    ax.set_title(f'Random Number Generated : {rnum} \\n'\n",
        "                 f'Mnist Prediction: {mnist_pred.item()} \\n'\n",
        "                 f'Sum: {rnum} + {mnist_pred.item()} = {sum_pred.item()}')\n",
        "    return mnist_pred, sum_pred"
      ],
      "execution_count": null,
      "outputs": []
    },
    {
      "cell_type": "code",
      "metadata": {
        "colab": {
          "base_uri": "https://localhost:8080/",
          "height": 172
        },
        "id": "33F1PPRdOmBt",
        "outputId": "44d4fa96-735f-4a85-ac09-ab34d49529d8"
      },
      "source": [
        "image,_,_,_ = test_dataset[random.randint(1,10000)]\n",
        "rnum=random.randint(0,9)\n",
        "mnist_pred, sum_pred =prediction(image,rnum)"
      ],
      "execution_count": null,
      "outputs": [
        {
          "output_type": "display_data",
          "data": {
            "text/plain": [
              "<Figure size 360x360 with 1 Axes>"
            ],
            "image/png": "[encoded data removed]"
          },
          "metadata": {}
        }
      ]
    },
    {
      "cell_type": "code",
      "metadata": {
        "colab": {
          "base_uri": "https://localhost:8080/",
          "height": 172
        },
        "id": "8eNkX2RYOs7w",
        "outputId": "f7f39a56-e99d-48aa-b503-048d2da6a2d9"
      },
      "source": [
        "image,_,_,_ = test_dataset[random.randint(1,10000)]\n",
        "rnum=random.randint(0,9)\n",
        "mnist_pred, sum_pred =prediction(image,rnum)"
      ],
      "execution_count": null,
      "outputs": [
        {
          "output_type": "display_data",
          "data": {
            "text/plain": [
              "<Figure size 360x360 with 1 Axes>"
            ],
            "image/png": "[encoded data removed]"
          },
          "metadata": {}
        }
      ]
    },
    {
      "cell_type": "code",
      "metadata": {
        "colab": {
          "base_uri": "https://localhost:8080/",
          "height": 172
        },
        "id": "3xYmHJzPOxaN",
        "outputId": "2afd7a51-4f73-4da9-fefe-0551123feddb"
      },
      "source": [
        "image,_,_,_ = test_dataset[random.randint(1,10000)]\n",
        "rnum=random.randint(0,9)\n",
        "mnist_pred, sum_pred =prediction(image,rnum)"
      ],
      "execution_count": null,
      "outputs": [
        {
          "output_type": "display_data",
          "data": {
            "text/plain": [
              "<Figure size 360x360 with 1 Axes>"
            ],
            "image/png": "[encoded data removed]"
          },
          "metadata": {}
        }
      ]
    },
    {
      "cell_type": "code",
      "metadata": {
        "colab": {
          "base_uri": "https://localhost:8080/",
          "height": 172
        },
        "id": "0vL3TGefOyD7",
        "outputId": "2f937142-d2ef-4e27-9df0-ac907dd18d79"
      },
      "source": [
        "image,_,_,_ = test_dataset[random.randint(1,10000)]\n",
        "rnum=random.randint(0,9)\n",
        "mnist_pred, sum_pred =prediction(image,rnum)"
      ],
      "execution_count": null,
      "outputs": [
        {
          "output_type": "display_data",
          "data": {
            "text/plain": [
              "<Figure size 360x360 with 1 Axes>"
            ],
            "image/png": "[encoded data removed]"
          },
          "metadata": {}
        }
      ]
    },
    {
      "cell_type": "code",
      "source": [],
      "metadata": {
        "id": "Nsyx1lSKvnX2"
      },
      "execution_count": null,
      "outputs": []
    }
  ]
}